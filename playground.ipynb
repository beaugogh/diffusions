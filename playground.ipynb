{
 "cells": [
  {
   "cell_type": "markdown",
   "id": "680f6895-a569-4781-82e0-6c7fb7439b09",
   "metadata": {},
   "source": [
    "## detectron2"
   ]
  },
  {
   "cell_type": "code",
   "execution_count": 20,
   "id": "cc093d59-ca27-4684-823b-2356004c46dd",
   "metadata": {},
   "outputs": [],
   "source": [
    "import sys\n",
    "sys.path.append(\"./detectron2\")\n",
    "import detectron2 \n",
    "from detectron2.utils.logger import setup_logger\n",
    "setup_logger()\n",
    "\n",
    "# import some common libraries\n",
    "import numpy as np\n",
    "import os, json, cv2, random\n",
    "\n",
    "# import some common detectron2 utilities\n",
    "from detectron2 import model_zoo\n",
    "from detectron2.engine import DefaultPredictor\n",
    "from detectron2.config import get_cfg\n",
    "from detectron2.utils.visualizer import Visualizer\n",
    "from detectron2.data import MetadataCatalog, DatasetCatalog"
   ]
  },
  {
   "cell_type": "code",
   "execution_count": null,
   "id": "a5bae041-2950-4cc2-9196-904802fa5cbb",
   "metadata": {},
   "outputs": [],
   "source": []
  },
  {
   "cell_type": "markdown",
   "id": "48a2541a-9afc-4b79-a938-c10482e479b6",
   "metadata": {},
   "source": [
    "## densepose"
   ]
  },
  {
   "cell_type": "code",
   "execution_count": 65,
   "id": "0b7c4d97-d447-4592-921a-807c91de5e18",
   "metadata": {},
   "outputs": [],
   "source": [
    "import sys\n",
    "sys.path.append(\"./detectron2\")\n",
    "sys.path.append(\"./detectron2/projects/DensePose\")\n",
    "from typing import List\n",
    "from detectron2.data.detection_utils import read_image\n",
    "from densepose import add_densepose_config\n",
    "from densepose.structures import DensePoseChartPredictorOutput, DensePoseEmbeddingPredictorOutput\n",
    "from densepose.utils.logger import verbosity_to_level\n",
    "from densepose.vis.base import CompoundVisualizer\n",
    "from densepose.vis.bounding_box import ScoredBoundingBoxVisualizer\n",
    "from densepose.vis.densepose_outputs_vertex import (\n",
    "    DensePoseOutputsTextureVisualizer,\n",
    "    DensePoseOutputsVertexVisualizer,\n",
    "    get_texture_atlases,\n",
    ")\n",
    "from densepose.vis.densepose_results import (\n",
    "    DensePoseResultsContourVisualizer,\n",
    "    DensePoseResultsFineSegmentationVisualizer,\n",
    "    DensePoseResultsUVisualizer,\n",
    "    DensePoseResultsVVisualizer,\n",
    ")\n",
    "from densepose.vis.densepose_results_textures import (\n",
    "    DensePoseResultsVisualizerWithTexture,\n",
    "    get_texture_atlas,\n",
    ")\n",
    "from densepose.vis.extractor import (\n",
    "    CompoundExtractor,\n",
    "    DensePoseOutputsExtractor,\n",
    "    DensePoseResultExtractor,\n",
    "    create_extractor,\n",
    ")\n",
    "\n",
    "class DensePoseModel:\n",
    "    VISUALIZERS = {\n",
    "        \"dp_contour\": DensePoseResultsContourVisualizer,\n",
    "        \"dp_segm\": DensePoseResultsFineSegmentationVisualizer,\n",
    "        \"dp_u\": DensePoseResultsUVisualizer,\n",
    "        \"dp_v\": DensePoseResultsVVisualizer,\n",
    "        \"dp_vertex\": DensePoseOutputsVertexVisualizer,\n",
    "        \"bbox\": ScoredBoundingBoxVisualizer,\n",
    "    }\n",
    "        \n",
    "    def __init__(self, config_path: str, model_path: str):\n",
    "        print(f\"load densepose model from {model_path}...\")\n",
    "        cfg = get_cfg()\n",
    "        add_densepose_config(cfg)\n",
    "        cfg.merge_from_file(config_path)\n",
    "        cfg.MODEL.WEIGHTS = model_path\n",
    "        cfg.freeze()\n",
    "        self.cfg = cfg\n",
    "        self.predictor = DefaultPredictor(cfg)\n",
    "        print(\"finished loading\")\n",
    "\n",
    "    def _visualize_outputs(self, input_img, outputs, vis_specs:List[str], save_path: str, white_background: bool = False):\n",
    "        # create visualizer and extractor\n",
    "        visualizers = []\n",
    "        extractors = []\n",
    "        for vis_spec in vis_specs:\n",
    "            vis = DensePoseModel.VISUALIZERS[vis_spec](\n",
    "                cfg=self.cfg,\n",
    "            )\n",
    "            visualizers.append(vis)\n",
    "            extractor = create_extractor(vis)\n",
    "            extractors.append(extractor)\n",
    "        visualizer = CompoundVisualizer(visualizers)\n",
    "        extractor = CompoundExtractor(extractors)\n",
    "    \n",
    "        # visualize and save\n",
    "        image = cv2.cvtColor(input_img, cv2.COLOR_BGR2GRAY)\n",
    "        image = np.tile(image[:, :, np.newaxis], [1, 1, 3])\n",
    "        if white_background:\n",
    "            image.fill(255)\n",
    "        data = extractor(outputs)\n",
    "        image_vis = visualizer.visualize(image, data)\n",
    "        cv2.imwrite(save_path, image_vis)\n",
    "\n",
    "    def predict_and_save(self, input_img_path: str, output_img_path: str = None, vis_specs_string: str = \"dp_contour,bbox\"):\n",
    "        if not output_img_path:\n",
    "            suffix = input_img_path.split(\".\")[-1]\n",
    "            output_img_path = input_img_path.replace(f\".{suffix}\", f\"-{vis_specs}.{suffix}\")\n",
    "        vis_specs = vis_specs_string.split(\",\")\n",
    "        img = read_image(input_img_path, format=\"BGR\")  # predictor expects BGR image.\n",
    "        with torch.no_grad():\n",
    "            outputs = self.predictor(img)[\"instances\"]\n",
    "            self._visualize_outputs(img, outputs, vis_specs, output_img_path)\n",
    "            print(f\"output is saved to {output_img_path}\")\n"
   ]
  },
  {
   "cell_type": "code",
   "execution_count": 66,
   "id": "03454726-cbac-4c5d-8630-40208ca42e6c",
   "metadata": {},
   "outputs": [
    {
     "name": "stdout",
     "output_type": "stream",
     "text": [
      "load densepose model from /home/bo/workspace/diffusions/models/densepose_rcnn_R_50_FPN_s1x.pkl...\n",
      "\u001b[32m[08/24 17:42:23 d2.checkpoint.detection_checkpoint]: \u001b[0m[DetectionCheckpointer] Loading from /home/bo/workspace/diffusions/models/densepose_rcnn_R_50_FPN_s1x.pkl ...\n",
      "finished loading\n"
     ]
    }
   ],
   "source": [
    "model_path = \"/home/bo/workspace/diffusions/models/densepose_rcnn_R_50_FPN_s1x.pkl\"\n",
    "config_path = \"/home/bo/workspace/diffusions/detectron2/projects/DensePose/configs/densepose_rcnn_R_50_FPN_s1x.yaml\"\n",
    "input_img_path = \"/home/bo/workspace/diffusions/images/frame_156.jpg\"\n",
    "vis_specs = \"dp_contour,bbox\"\n",
    "output_img_path = input_img_path.replace(\".jpg\", f\"-{vis_specs}.jpg\")\n",
    "model = DensePoseModel(config_path, model_path)"
   ]
  },
  {
   "cell_type": "code",
   "execution_count": 67,
   "id": "9f92d4e4-d8f3-449e-802e-ce8256a60258",
   "metadata": {},
   "outputs": [
    {
     "name": "stdout",
     "output_type": "stream",
     "text": [
      "output is saved to /home/bo/workspace/diffusions/images/frame_156-dp_contour,bbox.jpg\n"
     ]
    },
    {
     "name": "stderr",
     "output_type": "stream",
     "text": [
      "/home/bo/workspace/diffusions/./detectron2/projects/DensePose/densepose/vis/densepose_results.py:135: UserWarning: The following kwargs were not used by contour: 'cfg'\n",
      "  plt.contour(u, self.levels, extent=extent, **self.plot_args)\n",
      "/home/bo/workspace/diffusions/./detectron2/projects/DensePose/densepose/vis/densepose_results.py:136: UserWarning: The following kwargs were not used by contour: 'cfg'\n",
      "  plt.contour(v, self.levels, extent=extent, **self.plot_args)\n"
     ]
    }
   ],
   "source": [
    "model.predict_and_save(input_img_path, output_img_path, vis_specs)"
   ]
  },
  {
   "cell_type": "code",
   "execution_count": null,
   "id": "caac4fd8-b9a7-48a8-ad32-7b3367628cbe",
   "metadata": {},
   "outputs": [],
   "source": []
  }
 ],
 "metadata": {
  "kernelspec": {
   "display_name": "Python 3 (ipykernel)",
   "language": "python",
   "name": "python3"
  },
  "language_info": {
   "codemirror_mode": {
    "name": "ipython",
    "version": 3
   },
   "file_extension": ".py",
   "mimetype": "text/x-python",
   "name": "python",
   "nbconvert_exporter": "python",
   "pygments_lexer": "ipython3",
   "version": "3.11.9"
  }
 },
 "nbformat": 4,
 "nbformat_minor": 5
}
