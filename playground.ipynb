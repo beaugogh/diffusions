{
 "cells": [
  {
   "cell_type": "code",
   "execution_count": 7,
   "id": "cc093d59-ca27-4684-823b-2356004c46dd",
   "metadata": {},
   "outputs": [],
   "source": [
    "import os\n",
    "import sys\n",
    "from tqdm import tqdm\n",
    "sys.path.append(\"./detectron2\")\n",
    "sys.path.append(\"./detectron2/projects/DensePose\")\n",
    "from diffusions.densepose import DensePoseModel"
   ]
  },
  {
   "cell_type": "code",
   "execution_count": 10,
   "id": "caac4fd8-b9a7-48a8-ad32-7b3367628cbe",
   "metadata": {},
   "outputs": [
    {
     "name": "stdout",
     "output_type": "stream",
     "text": [
      "load densepose model from /home/bo/workspace/diffusions/models/densepose_rcnn_R_50_FPN_s1x.pkl...\n",
      "finished loading\n"
     ]
    }
   ],
   "source": [
    "model_path = \"/home/bo/workspace/diffusions/models/densepose_rcnn_R_50_FPN_s1x.pkl\"\n",
    "config_path = \"/home/bo/workspace/diffusions/detectron2/projects/DensePose/configs/densepose_rcnn_R_50_FPN_s1x.yaml\"\n",
    "input_img_dir = \"/home/bo/workspace/diffusions/images/inputs_0825\"\n",
    "output_img_dir = \"/home/bo/workspace/diffusions/images/outputs_0825\"\n",
    "# available specs: dp_contour,dp_segm,dp_u,dp_v,bbox\n",
    "specs = \"dp_u,dp_contour\" \n",
    "white_bkg = False\n",
    "model = DensePoseModel(config_path, model_path)"
   ]
  },
  {
   "cell_type": "code",
   "execution_count": null,
   "id": "e69bd75e-53f5-4fa1-aaf2-f153f053cd95",
   "metadata": {},
   "outputs": [],
   "source": [
    "for fn in tqdm(os.listdir(input_img_dir)):\n",
    "    if \".jpg\" in fn:\n",
    "        inpath = os.path.join(input_img_dir, fn)\n",
    "        outpath = os.path.join(output_img_dir, fn)\n",
    "        model.predict_and_save(inpath, outpath, vis_specs=specs, white_background=white_bkg)"
   ]
  },
  {
   "cell_type": "code",
   "execution_count": null,
   "id": "1ca0d678-659e-4f49-99bf-5dd4445b70ec",
   "metadata": {},
   "outputs": [],
   "source": []
  }
 ],
 "metadata": {
  "kernelspec": {
   "display_name": "Python 3 (ipykernel)",
   "language": "python",
   "name": "python3"
  },
  "language_info": {
   "codemirror_mode": {
    "name": "ipython",
    "version": 3
   },
   "file_extension": ".py",
   "mimetype": "text/x-python",
   "name": "python",
   "nbconvert_exporter": "python",
   "pygments_lexer": "ipython3",
   "version": "3.11.9"
  }
 },
 "nbformat": 4,
 "nbformat_minor": 5
}
